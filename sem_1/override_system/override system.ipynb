{
 "cells": [
  {
   "cell_type": "code",
   "execution_count": 140,
   "metadata": {},
   "outputs": [],
   "source": [
    "import numpy as np\n",
    "import copy\n",
    "import math"
   ]
  },
  {
   "cell_type": "code",
   "execution_count": 141,
   "metadata": {},
   "outputs": [],
   "source": [
    "def print_system(A, F):\n",
    "    for i in range(A.shape[0]):\n",
    "        for j in range(A.shape[1]):\n",
    "            if(not(j == 0)):\n",
    "                print(f\"+ {A[i][j]} * X{j + 1} \", end = \" \")\n",
    "            elif(j == 0):\n",
    "                print(f\"{A[i][j]} * X{j + 1} \", end = \" \")\n",
    "            if(j == A.shape[1] - 1):\n",
    "                print(f\" = {F[i][0]}\")\n",
    "                \n",
    "def make_solution(A, F):\n",
    "    dev = A[1][0] / A[0][0]\n",
    "    for i in range(A.shape[0]):\n",
    "        A[1][i] = A[1][i] - A[0][i] * dev\n",
    "    F[1][0] = F[1][0] - F[0][0] * dev\n",
    "    \n",
    "    \n",
    "    \n",
    "    dev = A[1][1] / A[0][1]\n",
    "    for i in range(A.shape[0]):\n",
    "        A[0][i] = A[0][i] * dev - A[1][i]\n",
    "    F[0][0] = F[0][0] * dev -F[1][0]\n",
    "    \n",
    "    print(\"X1 = \", F[0][0] / A[0][0])\n",
    "    print(\"X2 = \", F[1][0] / A[1][1])\n",
    "    "
   ]
  },
  {
   "cell_type": "code",
   "execution_count": 142,
   "metadata": {},
   "outputs": [
    {
     "name": "stdout",
     "output_type": "stream",
     "text": [
      "1.0 * X1  + 2.0 * X2   = 4.0\n",
      "3.0 * X1  + 1.0 * X2   = 6.0\n",
      "1.0 * X1  + 1.0 * X2   = 2.0\n"
     ]
    }
   ],
   "source": [
    "A = np.array([[1., 2.],[3., 1.], [1., 1.]])\n",
    "F = np.array([[4.], [6.], [2.]])\n",
    "\n",
    "print_system(A, F)"
   ]
  },
  {
   "cell_type": "code",
   "execution_count": 143,
   "metadata": {},
   "outputs": [
    {
     "name": "stdout",
     "output_type": "stream",
     "text": [
      "11.0 * X1  + 6.0 * X2   = 24.0\n",
      "6.0 * X1  + 6.0 * X2   = 16.0\n"
     ]
    }
   ],
   "source": [
    "new_A = np.dot(A.transpose(), A)\n",
    "new_F = np.dot(A.transpose(), F)\n",
    "\n",
    "print_system(new_A, new_F)"
   ]
  },
  {
   "cell_type": "code",
   "execution_count": 144,
   "metadata": {},
   "outputs": [
    {
     "name": "stdout",
     "output_type": "stream",
     "text": [
      "X1 =  1.6\n",
      "X2 =  1.0666666666666669\n"
     ]
    }
   ],
   "source": [
    "make_solution(new_A, new_F)"
   ]
  },
  {
   "cell_type": "markdown",
   "metadata": {},
   "source": []
  },
  {
   "cell_type": "code",
   "execution_count": null,
   "metadata": {},
   "outputs": [],
   "source": []
  },
  {
   "cell_type": "code",
   "execution_count": null,
   "metadata": {},
   "outputs": [],
   "source": []
  },
  {
   "cell_type": "code",
   "execution_count": null,
   "metadata": {},
   "outputs": [],
   "source": []
  }
 ],
 "metadata": {
  "kernelspec": {
   "display_name": "Python 3",
   "language": "python",
   "name": "python3"
  },
  "language_info": {
   "codemirror_mode": {
    "name": "ipython",
    "version": 3
   },
   "file_extension": ".py",
   "mimetype": "text/x-python",
   "name": "python",
   "nbconvert_exporter": "python",
   "pygments_lexer": "ipython3",
   "version": "3.6.5"
  }
 },
 "nbformat": 4,
 "nbformat_minor": 2
}

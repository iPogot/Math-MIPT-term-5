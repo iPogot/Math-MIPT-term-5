{
 "cells": [
  {
   "cell_type": "code",
   "execution_count": 3,
   "metadata": {},
   "outputs": [],
   "source": [
    "import numpy as np\n",
    "import copy\n",
    "import math"
   ]
  },
  {
   "cell_type": "code",
   "execution_count": 4,
   "metadata": {},
   "outputs": [],
   "source": [
    "def check_pos_def(A):\n",
    "    matr_len = np.shape(A)[0]\n",
    "    M = copy.deepcopy(A)  \n",
    "    \n",
    "    curent_len = matr_len\n",
    "    while(curent_len > 0):\n",
    "        if(curent_len == matr_len):\n",
    "            determ = np.linalg.det(M)\n",
    "        else:\n",
    "            M = np.delete(M, curent_len, axis = 0)\n",
    "            M = np.delete(M, curent_len, axis = 1)\n",
    "            determ = np.linalg.det(M)\n",
    "        \n",
    "        if(determ <= 0):\n",
    "            return False\n",
    "        curent_len = curent_len - 1\n",
    "    \n",
    "    return True\n",
    "\n",
    "def make_E_matr(A):\n",
    "    E_matr = np.ones(A.shape)\n",
    "\n",
    "    for i in range(A.shape[0]):\n",
    "        for j in range(A.shape[0]):\n",
    "            if(not(i == j)):\n",
    "                E_matr[i][j] = E_matr[i][j] - 1\n",
    "    return E_matr\n",
    "\n",
    "def iter_solve(R, iter_F, real_solution, accuarcy, iter_solution, k):\n",
    "    k = k + 1\n",
    "    print(\"Iteration number\", k)\n",
    "    iter_solution = np.dot(R, iter_solution) + iter_F\n",
    "    print(iter_solution)\n",
    "    \n",
    "    if(abs(np.linalg.norm(iter_solution) - np.linalg.norm(real_solution)) < accuarcy):\n",
    "        return iter_solution\n",
    "    else:\n",
    "        iter_solution = iter_solve(R, iter_F, real_solution, accuarcy, iter_solution, k)\n",
    "    "
   ]
  },
  {
   "cell_type": "code",
   "execution_count": 5,
   "metadata": {},
   "outputs": [
    {
     "name": "stdout",
     "output_type": "stream",
     "text": [
      "Оптимальный шаг равен 0.2222222222222222\n",
      "Оптимальное q равно  0.4581228472908513\n",
      "Число шагов для достижения точности (E = 0.001) >= 12\n",
      "Решение системы: \n",
      " [[-1.25]\n",
      " [ 0.5 ]]\n"
     ]
    }
   ],
   "source": [
    "A = np.array([[-2., 1.],[0., 2.]])\n",
    "F = np.array([[3.], [1.]])\n",
    "Uo = np.array([[0.], [0.]])\n",
    "E = 10 ** (-3)\n",
    "\n",
    "\n",
    "if(not check_pos_def(A)):\n",
    "    F = np.dot(A.transpose(), F)\n",
    "    A = np.dot(A.transpose(), A)\n",
    "    \n",
    "eigenval = np.linalg.eig(A)[0]\n",
    "\n",
    "\n",
    "tau = 2 / (np.max(eigenval) + np.min(eigenval))\n",
    "\n",
    "q_optimal = (np.max(eigenval) - np.min(eigenval)) / (np.max(eigenval) + np.min(eigenval))\n",
    "\n",
    "Eo = np.dot(A, Uo) - F\n",
    "\n",
    "\n",
    "\n",
    "num_steps = int(math.log(E / np.linalg.norm(Eo), q_optimal)) + 1\n",
    "\n",
    "solution = np.linalg.solve(A, F)\n",
    "\n",
    "print(\"Оптимальный шаг равен\", tau)\n",
    "print(\"Оптимальное q равно \", q_optimal)\n",
    "print(f\"Число шагов для достижения точности (E = {E}) >= {num_steps}\")\n",
    "print(\"Решение системы: \\n\", solution) "
   ]
  },
  {
   "cell_type": "code",
   "execution_count": 6,
   "metadata": {
    "scrolled": true
   },
   "outputs": [
    {
     "name": "stdout",
     "output_type": "stream",
     "text": [
      "Iteration number 1\n",
      "[[-1.33333333]\n",
      " [ 1.11111111]]\n",
      "Iteration number 2\n",
      "[[-0.98765432]\n",
      " [ 0.39506173]]\n",
      "Iteration number 3\n",
      "[[-1.26748971]\n",
      " [ 0.62825789]]\n",
      "Iteration number 4\n",
      "[[-1.1949398 ]\n",
      " [ 0.47797592]]\n",
      "Iteration number 5\n",
      "[[-1.25367068]\n",
      " [ 0.52691832]]\n",
      "Iteration number 6\n",
      "[[-1.23844415]\n",
      " [ 0.49537766]]\n",
      "Iteration number 7\n",
      "[[-1.25077039]\n",
      " [ 0.50564952]]\n",
      "Iteration number 8\n",
      "[[-1.2475747 ]\n",
      " [ 0.49902988]]\n",
      "Iteration number 9\n",
      "[[-1.25016169]\n",
      " [ 0.5011857 ]]\n"
     ]
    }
   ],
   "source": [
    "solution = np.linalg.solve(A, F)\n",
    "\n",
    "E_matr = make_E_matr(A)\n",
    "\n",
    "R = E_matr - tau * A\n",
    "iter_F = tau * F\n",
    "\n",
    "k = 0\n",
    "iter_solution = iter_solve(R, iter_F, solution, E, Uo, k)\n",
    " "
   ]
  },
  {
   "cell_type": "code",
   "execution_count": null,
   "metadata": {},
   "outputs": [],
   "source": []
  },
  {
   "cell_type": "code",
   "execution_count": null,
   "metadata": {},
   "outputs": [],
   "source": []
  }
 ],
 "metadata": {
  "kernelspec": {
   "display_name": "Python 3",
   "language": "python",
   "name": "python3"
  },
  "language_info": {
   "codemirror_mode": {
    "name": "ipython",
    "version": 3
   },
   "file_extension": ".py",
   "mimetype": "text/x-python",
   "name": "python",
   "nbconvert_exporter": "python",
   "pygments_lexer": "ipython3",
   "version": "3.6.5"
  }
 },
 "nbformat": 4,
 "nbformat_minor": 2
}

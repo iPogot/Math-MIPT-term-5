{
 "cells": [
  {
   "cell_type": "code",
   "execution_count": 5,
   "metadata": {},
   "outputs": [],
   "source": [
    "import sys\n",
    "import numpy as np"
   ]
  },
  {
   "cell_type": "code",
   "execution_count": 6,
   "metadata": {},
   "outputs": [],
   "source": [
    "def gauss(A, F):\n",
    "    k = 0\n",
    "    while(k < A.shape[0]):\n",
    "        for i in range(k + 1, A.shape[0]):\n",
    "            dev = A[i][k] / A[k][k]\n",
    "            F[i][0] = F[i][0] - F[k][0] * dev\n",
    "            for j in range(k, A.shape[1]):\n",
    "                A[i][j] = A[i][j] - A[k][j] * dev \n",
    "        k = k + 1\n",
    "    \n",
    "    print_system(A, F)\n",
    "    print(\"\\n\\n\")\n",
    "    \n",
    "    k = A.shape[0] - 1\n",
    "    while(k > 0):\n",
    "        for i in range(k - 1, -1, -1):\n",
    "            dev = A[i][k] / A[k][k]\n",
    "            A[i][k] = A[i][k] - A[k][k] * dev\n",
    "            F[i][0] = F[i][0] - F[k][0] * dev\n",
    "        k = k - 1\n",
    "    \n",
    "    print_system(A, F)\n",
    "    print(\"\\n\")\n",
    "    for k in range(A.shape[0]):\n",
    "        print(f\"Корень X{k + 1} = {F[k] / A[k][k]}\")\n",
    "    \n",
    "\n",
    "    \n",
    "    \n",
    "def print_system(A, F):\n",
    "    for i in range(A.shape[0]):\n",
    "        for j in range(A.shape[1]):\n",
    "            if(not(j == 0)):\n",
    "                print(f\"+ {A[i][j]} * X{j + 1} \", end = \" \")\n",
    "            elif(j == 0):\n",
    "                print(f\"{A[i][j]} * X{j + 1} \", end = \" \")\n",
    "            if(j == A.shape[1] - 1):\n",
    "                print(f\" = {F[i][0]}\")\n",
    "                "
   ]
  },
  {
   "cell_type": "code",
   "execution_count": 7,
   "metadata": {
    "scrolled": false
   },
   "outputs": [
    {
     "name": "stdout",
     "output_type": "stream",
     "text": [
      "2.0 * X1  + 3.0 * X2  + -1.0 * X3   = 9.0\n",
      "1.0 * X1  + -2.0 * X2  + 1.0 * X3   = 3.0\n",
      "1.0 * X1  + 3.0 * X2  + 2.0 * X3   = 2.0\n"
     ]
    }
   ],
   "source": [
    "A = np.array([[2., 3., -1.], [1., -2., 1.], [1., 3., 2.]])\n",
    "F = np.array([[9.], [3.], [2.]])\n",
    "\n",
    "print_system(A, F)"
   ]
  },
  {
   "cell_type": "code",
   "execution_count": 8,
   "metadata": {},
   "outputs": [
    {
     "name": "stdout",
     "output_type": "stream",
     "text": [
      "2.0 * X1  + 3.0 * X2  + -1.0 * X3   = 9.0\n",
      "0.0 * X1  + -3.5 * X2  + 1.5 * X3   = -1.5\n",
      "0.0 * X1  + 0.0 * X2  + 3.142857142857143 * X3   = -3.142857142857143\n",
      "\n",
      "\n",
      "\n",
      "2.0 * X1  + 0.0 * X2  + 0.0 * X3   = 8.0\n",
      "0.0 * X1  + -3.5 * X2  + 0.0 * X3   = 0.0\n",
      "0.0 * X1  + 0.0 * X2  + 3.142857142857143 * X3   = -3.142857142857143\n",
      "\n",
      "\n",
      "Корень X1 = [4.]\n",
      "Корень X2 = [-0.]\n",
      "Корень X3 = [-1.]\n"
     ]
    }
   ],
   "source": [
    "gauss(A, F)"
   ]
  },
  {
   "cell_type": "code",
   "execution_count": null,
   "metadata": {},
   "outputs": [],
   "source": []
  },
  {
   "cell_type": "code",
   "execution_count": null,
   "metadata": {},
   "outputs": [],
   "source": []
  },
  {
   "cell_type": "code",
   "execution_count": null,
   "metadata": {},
   "outputs": [],
   "source": []
  }
 ],
 "metadata": {
  "kernelspec": {
   "display_name": "Python 3",
   "language": "python",
   "name": "python3"
  },
  "language_info": {
   "codemirror_mode": {
    "name": "ipython",
    "version": 3
   },
   "file_extension": ".py",
   "mimetype": "text/x-python",
   "name": "python",
   "nbconvert_exporter": "python",
   "pygments_lexer": "ipython3",
   "version": "3.6.5"
  }
 },
 "nbformat": 4,
 "nbformat_minor": 2
}
